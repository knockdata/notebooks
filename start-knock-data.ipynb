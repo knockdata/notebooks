{
 "cells": [
  {
   "cell_type": "code",
   "execution_count": 1,
   "metadata": {},
   "outputs": [],
   "source": [
    "%load_ext sparkmagic.magics"
   ]
  },
  {
   "cell_type": "code",
   "execution_count": 2,
   "metadata": {},
   "outputs": [
    {
     "data": {
      "application/vnd.jupyter.widget-view+json": {
       "model_id": "53b56899227147acbadaddd6e8b53bcd",
       "version_major": 2,
       "version_minor": 0
      },
      "text/plain": [
       "MagicsControllerWidget(children=(Tab(children=(ManageSessionWidget(children=(HTML(value='<br/>'), HTML(value='…"
      ]
     },
     "metadata": {},
     "output_type": "display_data"
    }
   ],
   "source": [
    "%manage_spark"
   ]
  },
  {
   "cell_type": "code",
   "execution_count": 3,
   "metadata": {},
   "outputs": [
    {
     "data": {
      "text/html": [
       "Current session configs: <tt>{'driverMemory': '1000M', 'executorCores': 2, 'kind': 'pyspark'}</tt><br>"
      ],
      "text/plain": [
       "<IPython.core.display.HTML object>"
      ]
     },
     "metadata": {},
     "output_type": "display_data"
    },
    {
     "data": {
      "text/html": [
       "<table>\n",
       "<tr><th>ID</th><th>YARN Application ID</th><th>Kind</th><th>State</th><th>Spark UI</th><th>Driver log</th><th>Current session?</th></tr><tr><td>1</td><td>spark-45f66147821b4d19bd291275913adb26</td><td>pyspark</td><td>idle</td><td><a target=\"_blank\" href=\"http://my-cluster.knockdata.com/livy-session-1-jFWnv8GB\">Link</a></td><td><a target=\"_blank\" href=\"https://my-cluster.knockdata.com/grafana/explore?left=%5B%22now-6h%22%2C%22now%22%2C%22loki%22%2C%7B%22expr%22%3A%22%7Bspark_app_tag%3D%5C%22livy-session-1-jFWnv8GB%5C%22%2Cspark_role%3D%5C%22driver%5C%22%7D%22%7D%2C%7B%22ui%22%3A%5Btrue%2Ctrue%2Ctrue%2C%22exact%22%5D%7D%5D\">Link</a></td><td></td></tr></table>"
      ],
      "text/plain": [
       "<IPython.core.display.HTML object>"
      ]
     },
     "metadata": {},
     "output_type": "display_data"
    }
   ],
   "source": [
    "%info"
   ]
  },
  {
   "cell_type": "code",
   "execution_count": 9,
   "metadata": {},
   "outputs": [
    {
     "data": {
      "application/vnd.jupyter.widget-view+json": {
       "model_id": "",
       "version_major": 2,
       "version_minor": 0
      },
      "text/plain": [
       "FloatProgress(value=0.0, bar_style='info', description='Progress:', layout=Layout(height='25px', width='50%'),…"
      ]
     },
     "metadata": {},
     "output_type": "display_data"
    },
    {
     "name": "stdout",
     "output_type": "stream",
     "text": [
      "3.7.6 | packaged by conda-forge | (default, Jun  1 2020, 18:57:50) \n",
      "[GCC 7.5.0] 3.0.0"
     ]
    }
   ],
   "source": [
    "%spark use -u http://spark-cluster-livy:80 -i 1 -l python\n",
    "import sys\n",
    "print(sys.version, spark.version)"
   ]
  },
  {
   "cell_type": "code",
   "execution_count": 10,
   "metadata": {},
   "outputs": [
    {
     "name": "stderr",
     "output_type": "stream",
     "text": [
      "An error was encountered:\n",
      "You need to have at least 1 client created to execute commands.\n"
     ]
    }
   ],
   "source": [
    "import sys\n",
    "print(sys.version, spark.version)"
   ]
  },
  {
   "cell_type": "markdown",
   "metadata": {},
   "source": [
    "- `spark use` will be kept as it is\n",
    "- in the `Manage Session`, List all the existing sessions globally. \n",
    "- Any notebook can attach to existing session globally\n",
    "- Once attached, the default execution session will be that attached"
   ]
  },
  {
   "cell_type": "code",
   "execution_count": null,
   "metadata": {},
   "outputs": [],
   "source": [
    "- `spark use` will be kept as it is\n",
    "- in the `Manage Session`, List all the existing sessions globally. \n",
    "- Any notebook can attach to existing session globally\n",
    "- Once attached, the default execution session will be that attached\n",
    "\n",
    "def create_session:\n",
    "    self.attached_session = new session\n",
    "def attach_session:\n",
    "    session = self.find_seesion()\n",
    "    self.attached_session = session\n",
    "    \n",
    "if has spark use:\n",
    "    session = self.find_seesion()\n",
    "    session.execute()\n",
    "else:\n",
    "    self.attached_session.execute()"
   ]
  },
  {
   "cell_type": "code",
   "execution_count": null,
   "metadata": {},
   "outputs": [],
   "source": [
    "if has spark use:\n",
    "    session = self.find_seesion()\n",
    "    session.execute()\n",
    "else:\n",
    "    self.attached_session.execute()"
   ]
  }
 ],
 "metadata": {
  "kernelspec": {
   "display_name": "PySpark",
   "language": "",
   "name": "pysparkkernel"
  },
  "language_info": {
   "codemirror_mode": {
    "name": "python",
    "version": 3
   },
   "mimetype": "text/x-python",
   "name": "pyspark",
   "pygments_lexer": "python3"
  }
 },
 "nbformat": 4,
 "nbformat_minor": 2
}
