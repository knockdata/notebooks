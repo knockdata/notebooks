{
 "cells": [
  {
   "cell_type": "code",
   "execution_count": 1,
   "metadata": {},
   "outputs": [],
   "source": [
    "url = f'https://lab.skysager.com/airflow'"
   ]
  },
  {
   "cell_type": "code",
   "execution_count": 2,
   "metadata": {},
   "outputs": [],
   "source": [
    "%%bash -s \"$url\"\n",
    "echo \"[cli]\" > airflow.cfg\n",
    "echo \"api_client = airflow.api.client.json_client\" >> airflow.cfg\n",
    "echo \"endpoint_url = $1\" >> airflow.cfg"
   ]
  },
  {
   "cell_type": "code",
   "execution_count": 3,
   "metadata": {},
   "outputs": [
    {
     "name": "stdout",
     "output_type": "stream",
     "text": [
      "[\u001b[34m2020-10-18 22:23:27,754\u001b[0m] {\u001b[34mcli_action_loggers.py:\u001b[0m107} \u001b[33mWARNING\u001b[0m - \u001b[33mFailed to log action with \u001b[01m(sqlite3.OperationalError) no such table: log\n",
      "[SQL: INSERT INTO log (dttm, dag_id, task_id, event, execution_date, owner, extra) VALUES (?, ?, ?, ?, ?, ?, ?)]\n",
      "[parameters: ('2020-10-18 20:23:27.751566', None, None, 'cli_list_dags', None, 'rockie', '{\"host_name\": \"RockPro\", \"full_command\": \"[\\'/Users/rockie/anaconda3/bin/airflow\\', \\'list_dags\\']\"}')]\n",
      "(Background on this error at: http://sqlalche.me/e/e3q8)\u001b[22m\u001b[0m\n",
      "[\u001b[34m2020-10-18 22:23:27,754\u001b[0m] {\u001b[34m__init__.py:\u001b[0m50} INFO\u001b[0m - Using executor \u001b[01mSequentialExecutor\u001b[22m\u001b[0m\n",
      "[\u001b[34m2020-10-18 22:23:27,755\u001b[0m] {\u001b[34mdagbag.py:\u001b[0m417} INFO\u001b[0m - Filling up the DagBag from \u001b[01m/Users/rockie/airflow/dags\u001b[22m\u001b[0m\n",
      "/Users/rockie/anaconda3/lib/python3.7/site-packages/airflow/models/dag.py:1342: PendingDeprecationWarning: The requested task could not be added to the DAG because a task with task_id create_tag_template_field_result is already in the DAG. Starting in Airflow 2.0, trying to overwrite a task will raise an exception.\n",
      "  category=PendingDeprecationWarning)\n",
      "[\u001b[34m2020-10-18 22:23:27,811\u001b[0m] {\u001b[34mdagbag.py:\u001b[0m259} \u001b[31mERROR\u001b[0m - \u001b[31mFailed to import: \u001b[01m/Users/rockie/anaconda3/lib/python3.7/site-packages/airflow/example_dags/example_subdag_operator.py\u001b[22m\u001b[0m\n",
      "\u001b[31mTraceback (most recent call last):\n",
      "  File \"/Users/rockie/anaconda3/lib/python3.7/site-packages/sqlalchemy/engine/base.py\", line 1246, in _execute_context\n",
      "    cursor, statement, parameters, context\n",
      "  File \"/Users/rockie/anaconda3/lib/python3.7/site-packages/sqlalchemy/engine/default.py\", line 588, in do_execute\n",
      "    cursor.execute(statement, parameters)\n",
      "sqlite3.OperationalError: no such table: slot_pool\n",
      "\n",
      "The above exception was the direct cause of the following exception:\n",
      "\n",
      "Traceback (most recent call last):\n",
      "  File \"/Users/rockie/anaconda3/lib/python3.7/site-packages/airflow/models/dagbag.py\", line 256, in process_file\n",
      "    m = imp.load_source(mod_name, filepath)\n",
      "  File \"/Users/rockie/anaconda3/lib/python3.7/imp.py\", line 171, in load_source\n",
      "    module = _load(spec)\n",
      "  File \"<frozen importlib._bootstrap>\", line 696, in _load\n",
      "  File \"<frozen importlib._bootstrap>\", line 677, in _load_unlocked\n",
      "  File \"<frozen importlib._bootstrap_external>\", line 728, in exec_module\n",
      "  File \"<frozen importlib._bootstrap>\", line 219, in _call_with_frames_removed\n",
      "  File \"/Users/rockie/anaconda3/lib/python3.7/site-packages/airflow/example_dags/example_subdag_operator.py\", line 51, in <module>\n",
      "    dag=dag,\n",
      "  File \"/Users/rockie/anaconda3/lib/python3.7/site-packages/airflow/utils/db.py\", line 74, in wrapper\n",
      "    return func(*args, **kwargs)\n",
      "  File \"/Users/rockie/anaconda3/lib/python3.7/site-packages/airflow/utils/decorators.py\", line 98, in wrapper\n",
      "    result = func(*args, **kwargs)\n",
      "  File \"/Users/rockie/anaconda3/lib/python3.7/site-packages/airflow/operators/subdag_operator.py\", line 77, in __init__\n",
      "    .filter(Pool.pool == self.pool)\n",
      "  File \"/Users/rockie/anaconda3/lib/python3.7/site-packages/sqlalchemy/orm/query.py\", line 3287, in first\n",
      "    ret = list(self[0:1])\n",
      "  File \"/Users/rockie/anaconda3/lib/python3.7/site-packages/sqlalchemy/orm/query.py\", line 3065, in __getitem__\n",
      "    return list(res)\n",
      "  File \"/Users/rockie/anaconda3/lib/python3.7/site-packages/sqlalchemy/orm/query.py\", line 3389, in __iter__\n",
      "    return self._execute_and_instances(context)\n",
      "  File \"/Users/rockie/anaconda3/lib/python3.7/site-packages/sqlalchemy/orm/query.py\", line 3414, in _execute_and_instances\n",
      "    result = conn.execute(querycontext.statement, self._params)\n",
      "  File \"/Users/rockie/anaconda3/lib/python3.7/site-packages/sqlalchemy/engine/base.py\", line 982, in execute\n",
      "    return meth(self, multiparams, params)\n",
      "  File \"/Users/rockie/anaconda3/lib/python3.7/site-packages/sqlalchemy/sql/elements.py\", line 293, in _execute_on_connection\n",
      "    return connection._execute_clauseelement(self, multiparams, params)\n",
      "  File \"/Users/rockie/anaconda3/lib/python3.7/site-packages/sqlalchemy/engine/base.py\", line 1101, in _execute_clauseelement\n",
      "    distilled_params,\n",
      "  File \"/Users/rockie/anaconda3/lib/python3.7/site-packages/sqlalchemy/engine/base.py\", line 1250, in _execute_context\n",
      "    e, statement, parameters, cursor, context\n",
      "  File \"/Users/rockie/anaconda3/lib/python3.7/site-packages/sqlalchemy/engine/base.py\", line 1476, in _handle_dbapi_exception\n",
      "    util.raise_from_cause(sqlalchemy_exception, exc_info)\n",
      "  File \"/Users/rockie/anaconda3/lib/python3.7/site-packages/sqlalchemy/util/compat.py\", line 398, in raise_from_cause\n",
      "    reraise(type(exception), exception, tb=exc_tb, cause=cause)\n",
      "  File \"/Users/rockie/anaconda3/lib/python3.7/site-packages/sqlalchemy/util/compat.py\", line 152, in reraise\n",
      "    raise value.with_traceback(tb)\n",
      "  File \"/Users/rockie/anaconda3/lib/python3.7/site-packages/sqlalchemy/engine/base.py\", line 1246, in _execute_context\n",
      "    cursor, statement, parameters, context\n",
      "  File \"/Users/rockie/anaconda3/lib/python3.7/site-packages/sqlalchemy/engine/default.py\", line 588, in do_execute\n",
      "    cursor.execute(statement, parameters)\n",
      "sqlalchemy.exc.OperationalError: (sqlite3.OperationalError) no such table: slot_pool\n",
      "[SQL: SELECT slot_pool.id AS slot_pool_id, slot_pool.pool AS slot_pool_pool, slot_pool.slots AS slot_pool_slots, slot_pool.description AS slot_pool_description \n",
      "FROM slot_pool \n",
      "WHERE slot_pool.slots = ? AND slot_pool.pool = ?\n",
      " LIMIT ? OFFSET ?]\n",
      "[parameters: (1, 'default_pool', 1, 0)]\n",
      "(Background on this error at: http://sqlalche.me/e/e3q8)\u001b[0m\n",
      "\n",
      "\n",
      "-------------------------------------------------------------------\n",
      "DAGS\n",
      "-------------------------------------------------------------------\n",
      "example_bash_operator\n",
      "example_branch_dop_operator_v3\n",
      "example_branch_operator\n",
      "example_complex\n",
      "example_external_task_marker_child\n",
      "example_external_task_marker_parent\n",
      "example_http_operator\n",
      "example_kubernetes_executor_config\n",
      "example_nested_branch_dag\n",
      "example_passing_params_via_test_command\n",
      "example_pig_operator\n",
      "example_python_operator\n",
      "example_short_circuit_operator\n",
      "example_skip_dag\n",
      "example_trigger_controller_dag\n",
      "example_trigger_target_dag\n",
      "example_xcom\n",
      "latest_only\n",
      "latest_only_with_trigger\n",
      "test_utils\n",
      "tutorial\n",
      "\n",
      "\u001b[0m"
     ]
    }
   ],
   "source": [
    "!airflow list_dags"
   ]
  },
  {
   "cell_type": "code",
   "execution_count": 4,
   "metadata": {},
   "outputs": [
    {
     "name": "stdout",
     "output_type": "stream",
     "text": [
      "[cli]\r\n",
      "api_client = airflow.api.client.json_client\r\n",
      "endpoint_url = https://lab.skysager.com/airflow\r\n"
     ]
    }
   ],
   "source": [
    "!cat airflow.cfg"
   ]
  },
  {
   "cell_type": "code",
   "execution_count": null,
   "metadata": {},
   "outputs": [],
   "source": []
  }
 ],
 "metadata": {
  "kernelspec": {
   "display_name": "Python 3",
   "language": "python",
   "name": "python3"
  },
  "language_info": {
   "codemirror_mode": {
    "name": "ipython",
    "version": 3
   },
   "file_extension": ".py",
   "mimetype": "text/x-python",
   "name": "python",
   "nbconvert_exporter": "python",
   "pygments_lexer": "ipython3",
   "version": "3.7.6"
  }
 },
 "nbformat": 4,
 "nbformat_minor": 4
}
