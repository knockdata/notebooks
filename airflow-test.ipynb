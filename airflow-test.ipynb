{
 "cells": [
  {
   "cell_type": "code",
   "execution_count": 5,
   "metadata": {},
   "outputs": [],
   "source": [
    "svc = \"a797efe5eec0f418caae64fcd0d97c1c-1390300764.eu-west-1.elb.amazonaws.com\"\n",
    "url = f'http://{svc}:8080'"
   ]
  },
  {
   "cell_type": "code",
   "execution_count": 6,
   "metadata": {},
   "outputs": [],
   "source": [
    "%%bash -s \"$url\"\n",
    "echo \"[cli]\" > airflow.cfg\n",
    "echo \"api_client = airflow.api.client.json_client\" >> airflow.cfg\n",
    "echo \"endpoint_url = $1\" >> airflow.cfg"
   ]
  },
  {
   "cell_type": "code",
   "execution_count": 7,
   "metadata": {},
   "outputs": [
    {
     "name": "stdout",
     "output_type": "stream",
     "text": [
      "[\u001b[34m2020-09-09 17:52:17,145\u001b[0m] {\u001b[34mcli_action_loggers.py:\u001b[0m107} \u001b[33mWARNING\u001b[0m - \u001b[33mFailed to log action with \u001b[01m(sqlite3.OperationalError) no such table: log\r\n",
      "[SQL: INSERT INTO log (dttm, dag_id, task_id, event, execution_date, owner, extra) VALUES (?, ?, ?, ?, ?, ?, ?)]\r\n",
      "[parameters: ('2020-09-09 15:52:17.143012', None, None, 'cli_list_dags', None, 'rockie', '{\"host_name\": \"RockPro\", \"full_command\": \"[\\'/Users/rockie/anaconda3/bin/airflow\\', \\'list_dags\\']\"}')]\r\n",
      "(Background on this error at: http://sqlalche.me/e/e3q8)\u001b[22m\u001b[0m\r\n",
      "[\u001b[34m2020-09-09 17:52:17,146\u001b[0m] {\u001b[34m__init__.py:\u001b[0m50} INFO\u001b[0m - Using executor \u001b[01mSequentialExecutor\u001b[22m\u001b[0m\r\n",
      "[\u001b[34m2020-09-09 17:52:17,146\u001b[0m] {\u001b[34mdagbag.py:\u001b[0m417} INFO\u001b[0m - Filling up the DagBag from \u001b[01m/Users/rockie/airflow/dags\u001b[22m\u001b[0m\r\n",
      "/Users/rockie/anaconda3/lib/python3.7/site-packages/airflow/models/dag.py:1342: PendingDeprecationWarning: The requested task could not be added to the DAG because a task with task_id create_tag_template_field_result is already in the DAG. Starting in Airflow 2.0, trying to overwrite a task will raise an exception.\r\n",
      "  category=PendingDeprecationWarning)\r\n",
      "[\u001b[34m2020-09-09 17:52:17,180\u001b[0m] {\u001b[34mdagbag.py:\u001b[0m259} \u001b[31mERROR\u001b[0m - \u001b[31mFailed to import: \u001b[01m/Users/rockie/anaconda3/lib/python3.7/site-packages/airflow/example_dags/example_subdag_operator.py\u001b[22m\u001b[0m\r\n",
      "\u001b[31mTraceback (most recent call last):\r\n",
      "  File \"/Users/rockie/anaconda3/lib/python3.7/site-packages/sqlalchemy/engine/base.py\", line 1246, in _execute_context\r\n",
      "    cursor, statement, parameters, context\r\n",
      "  File \"/Users/rockie/anaconda3/lib/python3.7/site-packages/sqlalchemy/engine/default.py\", line 588, in do_execute\r\n",
      "    cursor.execute(statement, parameters)\r\n",
      "sqlite3.OperationalError: no such table: slot_pool\r\n",
      "\r\n",
      "The above exception was the direct cause of the following exception:\r\n",
      "\r\n",
      "Traceback (most recent call last):\r\n",
      "  File \"/Users/rockie/anaconda3/lib/python3.7/site-packages/airflow/models/dagbag.py\", line 256, in process_file\r\n",
      "    m = imp.load_source(mod_name, filepath)\r\n",
      "  File \"/Users/rockie/anaconda3/lib/python3.7/imp.py\", line 171, in load_source\r\n",
      "    module = _load(spec)\r\n",
      "  File \"<frozen importlib._bootstrap>\", line 696, in _load\r\n",
      "  File \"<frozen importlib._bootstrap>\", line 677, in _load_unlocked\r\n",
      "  File \"<frozen importlib._bootstrap_external>\", line 728, in exec_module\r\n",
      "  File \"<frozen importlib._bootstrap>\", line 219, in _call_with_frames_removed\r\n",
      "  File \"/Users/rockie/anaconda3/lib/python3.7/site-packages/airflow/example_dags/example_subdag_operator.py\", line 51, in <module>\r\n",
      "    dag=dag,\r\n",
      "  File \"/Users/rockie/anaconda3/lib/python3.7/site-packages/airflow/utils/db.py\", line 74, in wrapper\r\n",
      "    return func(*args, **kwargs)\r\n",
      "  File \"/Users/rockie/anaconda3/lib/python3.7/site-packages/airflow/utils/decorators.py\", line 98, in wrapper\r\n",
      "    result = func(*args, **kwargs)\r\n",
      "  File \"/Users/rockie/anaconda3/lib/python3.7/site-packages/airflow/operators/subdag_operator.py\", line 77, in __init__\r\n",
      "    .filter(Pool.pool == self.pool)\r\n",
      "  File \"/Users/rockie/anaconda3/lib/python3.7/site-packages/sqlalchemy/orm/query.py\", line 3287, in first\r\n",
      "    ret = list(self[0:1])\r\n",
      "  File \"/Users/rockie/anaconda3/lib/python3.7/site-packages/sqlalchemy/orm/query.py\", line 3065, in __getitem__\r\n",
      "    return list(res)\r\n",
      "  File \"/Users/rockie/anaconda3/lib/python3.7/site-packages/sqlalchemy/orm/query.py\", line 3389, in __iter__\r\n",
      "    return self._execute_and_instances(context)\r\n",
      "  File \"/Users/rockie/anaconda3/lib/python3.7/site-packages/sqlalchemy/orm/query.py\", line 3414, in _execute_and_instances\r\n",
      "    result = conn.execute(querycontext.statement, self._params)\r\n",
      "  File \"/Users/rockie/anaconda3/lib/python3.7/site-packages/sqlalchemy/engine/base.py\", line 982, in execute\r\n",
      "    return meth(self, multiparams, params)\r\n",
      "  File \"/Users/rockie/anaconda3/lib/python3.7/site-packages/sqlalchemy/sql/elements.py\", line 293, in _execute_on_connection\r\n",
      "    return connection._execute_clauseelement(self, multiparams, params)\r\n",
      "  File \"/Users/rockie/anaconda3/lib/python3.7/site-packages/sqlalchemy/engine/base.py\", line 1101, in _execute_clauseelement\r\n",
      "    distilled_params,\r\n",
      "  File \"/Users/rockie/anaconda3/lib/python3.7/site-packages/sqlalchemy/engine/base.py\", line 1250, in _execute_context\r\n",
      "    e, statement, parameters, cursor, context\r\n",
      "  File \"/Users/rockie/anaconda3/lib/python3.7/site-packages/sqlalchemy/engine/base.py\", line 1476, in _handle_dbapi_exception\r\n",
      "    util.raise_from_cause(sqlalchemy_exception, exc_info)\r\n",
      "  File \"/Users/rockie/anaconda3/lib/python3.7/site-packages/sqlalchemy/util/compat.py\", line 398, in raise_from_cause\r\n",
      "    reraise(type(exception), exception, tb=exc_tb, cause=cause)\r\n",
      "  File \"/Users/rockie/anaconda3/lib/python3.7/site-packages/sqlalchemy/util/compat.py\", line 152, in reraise\r\n",
      "    raise value.with_traceback(tb)\r\n",
      "  File \"/Users/rockie/anaconda3/lib/python3.7/site-packages/sqlalchemy/engine/base.py\", line 1246, in _execute_context\r\n",
      "    cursor, statement, parameters, context\r\n",
      "  File \"/Users/rockie/anaconda3/lib/python3.7/site-packages/sqlalchemy/engine/default.py\", line 588, in do_execute\r\n",
      "    cursor.execute(statement, parameters)\r\n",
      "sqlalchemy.exc.OperationalError: (sqlite3.OperationalError) no such table: slot_pool\r\n",
      "[SQL: SELECT slot_pool.id AS slot_pool_id, slot_pool.pool AS slot_pool_pool, slot_pool.slots AS slot_pool_slots, slot_pool.description AS slot_pool_description \r\n",
      "FROM slot_pool \r\n",
      "WHERE slot_pool.slots = ? AND slot_pool.pool = ?\r\n",
      " LIMIT ? OFFSET ?]\r\n",
      "[parameters: (1, 'default_pool', 1, 0)]\r\n",
      "(Background on this error at: http://sqlalche.me/e/e3q8)\u001b[0m\r\n",
      "\r\n",
      "\r\n",
      "-------------------------------------------------------------------\r\n",
      "DAGS\r\n",
      "-------------------------------------------------------------------\r\n",
      "example_bash_operator\r\n",
      "example_branch_dop_operator_v3\r\n",
      "example_branch_operator\r\n",
      "example_complex\r\n",
      "example_external_task_marker_child\r\n",
      "example_external_task_marker_parent\r\n",
      "example_http_operator\r\n",
      "example_kubernetes_executor_config\r\n",
      "example_nested_branch_dag\r\n",
      "example_passing_params_via_test_command\r\n",
      "example_pig_operator\r\n",
      "example_python_operator\r\n",
      "example_short_circuit_operator\r\n",
      "example_skip_dag\r\n",
      "example_trigger_controller_dag\r\n",
      "example_trigger_target_dag\r\n",
      "example_xcom\r\n",
      "latest_only\r\n",
      "latest_only_with_trigger\r\n",
      "test_utils\r\n",
      "tutorial\r\n",
      "\r\n",
      "\u001b[0m"
     ]
    }
   ],
   "source": [
    "!airflow list_dags"
   ]
  },
  {
   "cell_type": "code",
   "execution_count": null,
   "metadata": {},
   "outputs": [],
   "source": []
  }
 ],
 "metadata": {
  "kernelspec": {
   "display_name": "Python 3",
   "language": "python",
   "name": "python3"
  },
  "language_info": {
   "codemirror_mode": {
    "name": "ipython",
    "version": 3
   },
   "file_extension": ".py",
   "mimetype": "text/x-python",
   "name": "python",
   "nbconvert_exporter": "python",
   "pygments_lexer": "ipython3",
   "version": "3.7.6"
  }
 },
 "nbformat": 4,
 "nbformat_minor": 4
}
