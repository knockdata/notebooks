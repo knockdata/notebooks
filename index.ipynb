{
 "cells": [
  {
   "cell_type": "markdown",
   "metadata": {},
   "source": [
    "| Service | Description |\n",
    "|:--------|:------------|\n",
    "|[JupyterHub](http://lab.knockdata.com/jupyterhub)|The entry point of notebook environment |\n",
    "|[Livy](http://lab.knockdata.com/livy)| the livy server for spark applications |\n",
    "|[Spark History Server](lab.knockdata.com/spark-history)|Spark history server for all finished spark jobs |\n",
    "|[Neo4j](http://ae9648251fd9d4b6a97b08329b194e78-263866410.eu-west-1.elb.amazonaws.com:7474)|The neo4j graph database server |\n",
    "|[Airflow](http://a797efe5eec0f418caae64fcd0d97c1c-1390300764.eu-west-1.elb.amazonaws.com:8080)|Data Pipeline\n",
    "|[Grafana](http://lab.knockdata.com/grafana)|Dashboard\n",
    "|[Prometheus](http://lab.knockdata.com/prometheus)|Monitoring \n",
    "|[MinIO](http://ada79fc7c69254b0c9fbf0bafc620d92-1804035176.eu-west-1.elb.amazonaws.com:9000)|S3 compatible object store"
   ]
  },
  {
   "cell_type": "code",
   "execution_count": null,
   "metadata": {},
   "outputs": [],
   "source": []
  }
 ],
 "metadata": {
  "kernelspec": {
   "display_name": "Python 3",
   "language": "python",
   "name": "python3"
  },
  "language_info": {
   "codemirror_mode": {
    "name": "ipython",
    "version": 3
   },
   "file_extension": ".py",
   "mimetype": "text/x-python",
   "name": "python",
   "nbconvert_exporter": "python",
   "pygments_lexer": "ipython3",
   "version": "3.7.6"
  }
 },
 "nbformat": 4,
 "nbformat_minor": 4
}
