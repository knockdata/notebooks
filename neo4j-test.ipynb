{
 "cells": [
  {
   "cell_type": "code",
   "execution_count": 2,
   "metadata": {},
   "outputs": [],
   "source": [
    "svc = \"aa5c87b7224164f7fa35384e3087f010-1736237798.eu-west-1.elb.amazonaws.com\"\n",
    "url = f'bolt://{svc}:7687'"
   ]
  },
  {
   "cell_type": "code",
   "execution_count": 3,
   "metadata": {},
   "outputs": [],
   "source": [
    "from py2neo import Graph,Node,Relationship\n",
    "graph = Graph(url, auth=(\"neo4j\", \"password\"))"
   ]
  },
  {
   "cell_type": "code",
   "execution_count": 4,
   "metadata": {},
   "outputs": [],
   "source": [
    "graph.evaluate(\"MATCH (n) RETURN n\")"
   ]
  },
  {
   "cell_type": "code",
   "execution_count": 5,
   "metadata": {},
   "outputs": [
    {
     "data": {
      "text/html": [
       "<div>\n",
       "<style scoped>\n",
       "    .dataframe tbody tr th:only-of-type {\n",
       "        vertical-align: middle;\n",
       "    }\n",
       "\n",
       "    .dataframe tbody tr th {\n",
       "        vertical-align: top;\n",
       "    }\n",
       "\n",
       "    .dataframe thead th {\n",
       "        text-align: right;\n",
       "    }\n",
       "</style>\n",
       "<table border=\"1\" class=\"dataframe\">\n",
       "  <thead>\n",
       "    <tr style=\"text-align: right;\">\n",
       "      <th></th>\n",
       "    </tr>\n",
       "  </thead>\n",
       "  <tbody>\n",
       "  </tbody>\n",
       "</table>\n",
       "</div>"
      ],
      "text/plain": [
       "Empty DataFrame\n",
       "Columns: []\n",
       "Index: []"
      ]
     },
     "execution_count": 5,
     "metadata": {},
     "output_type": "execute_result"
    }
   ],
   "source": [
    "graph.run(\"MATCH (n) RETURN n;\").to_data_frame()"
   ]
  },
  {
   "cell_type": "code",
   "execution_count": 6,
   "metadata": {},
   "outputs": [],
   "source": [
    "graph.evaluate(\"MATCH (n) DETACH DELETE n\")"
   ]
  },
  {
   "cell_type": "code",
   "execution_count": 7,
   "metadata": {},
   "outputs": [],
   "source": [
    "import pandas as pd\n",
    "pd.set_option('display.max_colwidth', -1)"
   ]
  },
  {
   "cell_type": "code",
   "execution_count": 8,
   "metadata": {},
   "outputs": [
    {
     "data": {
      "text/html": [
       "<div>\n",
       "<style scoped>\n",
       "    .dataframe tbody tr th:only-of-type {\n",
       "        vertical-align: middle;\n",
       "    }\n",
       "\n",
       "    .dataframe tbody tr th {\n",
       "        vertical-align: top;\n",
       "    }\n",
       "\n",
       "    .dataframe thead th {\n",
       "        text-align: right;\n",
       "    }\n",
       "</style>\n",
       "<table border=\"1\" class=\"dataframe\">\n",
       "  <thead>\n",
       "    <tr style=\"text-align: right;\">\n",
       "      <th></th>\n",
       "      <th>n</th>\n",
       "    </tr>\n",
       "  </thead>\n",
       "  <tbody>\n",
       "    <tr>\n",
       "      <th>0</th>\n",
       "      <td>{'name': 'Keven Bacon', 'birth_city': 'Philalephia', 'id': 1, 'birth_state': 'PA', 'birth_date': '1958-07-08'}</td>\n",
       "    </tr>\n",
       "    <tr>\n",
       "      <th>1</th>\n",
       "      <td>{'name': 'Tom Cruise', 'birth_city': 'Syracuse', 'id': 2, 'birth_state': 'NY', 'birth_date': '1962-07-03'}</td>\n",
       "    </tr>\n",
       "    <tr>\n",
       "      <th>2</th>\n",
       "      <td>{'name': 'Tyrese Gibson', 'birth_city': 'Los Angeles', 'id': 3, 'birth_state': 'CA', 'birth_date': '1978-12-30'}</td>\n",
       "    </tr>\n",
       "    <tr>\n",
       "      <th>3</th>\n",
       "      <td>{'name': 'John Turtumo', 'birth_city': 'Brooklyn', 'id': 4, 'birth_state': 'NY', 'birth_date': '1957-02-28'}</td>\n",
       "    </tr>\n",
       "    <tr>\n",
       "      <th>4</th>\n",
       "      <td>{'name': 'Vin Diesel', 'birth_city': 'Alameda County', 'id': 5, 'birth_state': 'CA', 'birth_date': '1967-07-18'}</td>\n",
       "    </tr>\n",
       "  </tbody>\n",
       "</table>\n",
       "</div>"
      ],
      "text/plain": [
       "                                                                                                                  n\n",
       "0  {'name': 'Keven Bacon', 'birth_city': 'Philalephia', 'id': 1, 'birth_state': 'PA', 'birth_date': '1958-07-08'}  \n",
       "1  {'name': 'Tom Cruise', 'birth_city': 'Syracuse', 'id': 2, 'birth_state': 'NY', 'birth_date': '1962-07-03'}      \n",
       "2  {'name': 'Tyrese Gibson', 'birth_city': 'Los Angeles', 'id': 3, 'birth_state': 'CA', 'birth_date': '1978-12-30'}\n",
       "3  {'name': 'John Turtumo', 'birth_city': 'Brooklyn', 'id': 4, 'birth_state': 'NY', 'birth_date': '1957-02-28'}    \n",
       "4  {'name': 'Vin Diesel', 'birth_city': 'Alameda County', 'id': 5, 'birth_state': 'CA', 'birth_date': '1967-07-18'}"
      ]
     },
     "execution_count": 8,
     "metadata": {},
     "output_type": "execute_result"
    }
   ],
   "source": [
    "actors = [\n",
    "'CREATE(: Actor{id: 1, name: \"Keven Bacon\", birth_date: \"1958-07-08\", birth_city: \"Philalephia\", birth_state: \"PA\"})',\n",
    "'CREATE(: Actor{id: 2, name: \"Tom Cruise\", birth_date: \"1962-07-03\", birth_city: \"Syracuse\", birth_state: \"NY\"})',\n",
    "'CREATE(: Actor{id: 3, name: \"Tyrese Gibson\", birth_date: \"1978-12-30\", birth_city: \"Los Angeles\", birth_state: \"CA\"})',\n",
    "'CREATE(: Actor{id: 4, name: \"John Turtumo\", birth_date: \"1957-02-28\", birth_city: \"Brooklyn\", birth_state: \"NY\"})', \n",
    "'CREATE(: Actor{id: 5, name: \"Vin Diesel\", birth_date: \"1967-07-18\", birth_city: \"Alameda County\", birth_state: \"CA\"})'\n",
    "]\n",
    "\n",
    "for actor in actors:\n",
    "    graph.evaluate(actor)\n",
    "    \n",
    "graph.run(\"MATCH (n) RETURN n;\").to_data_frame()"
   ]
  },
  {
   "cell_type": "code",
   "execution_count": 10,
   "metadata": {},
   "outputs": [
    {
     "data": {
      "text/html": [
       "<div>\n",
       "<style scoped>\n",
       "    .dataframe tbody tr th:only-of-type {\n",
       "        vertical-align: middle;\n",
       "    }\n",
       "\n",
       "    .dataframe tbody tr th {\n",
       "        vertical-align: top;\n",
       "    }\n",
       "\n",
       "    .dataframe thead th {\n",
       "        text-align: right;\n",
       "    }\n",
       "</style>\n",
       "<table border=\"1\" class=\"dataframe\">\n",
       "  <thead>\n",
       "    <tr style=\"text-align: right;\">\n",
       "      <th></th>\n",
       "      <th>n</th>\n",
       "    </tr>\n",
       "  </thead>\n",
       "  <tbody>\n",
       "    <tr>\n",
       "      <th>0</th>\n",
       "      <td>{'name': 'Keven Bacon', 'birth_city': 'Philalephia', 'id': 1, 'birth_state': 'PA', 'birth_date': '1958-07-08'}</td>\n",
       "    </tr>\n",
       "    <tr>\n",
       "      <th>1</th>\n",
       "      <td>{'name': 'Tom Cruise', 'birth_city': 'Syracuse', 'id': 2, 'birth_state': 'NY', 'birth_date': '1962-07-03'}</td>\n",
       "    </tr>\n",
       "    <tr>\n",
       "      <th>2</th>\n",
       "      <td>{'name': 'Tyrese Gibson', 'birth_city': 'Los Angeles', 'id': 3, 'birth_state': 'CA', 'birth_date': '1978-12-30'}</td>\n",
       "    </tr>\n",
       "    <tr>\n",
       "      <th>3</th>\n",
       "      <td>{'name': 'John Turtumo', 'birth_city': 'Brooklyn', 'id': 4, 'birth_state': 'NY', 'birth_date': '1957-02-28'}</td>\n",
       "    </tr>\n",
       "    <tr>\n",
       "      <th>4</th>\n",
       "      <td>{'name': 'Vin Diesel', 'birth_city': 'Alameda County', 'id': 5, 'birth_state': 'CA', 'birth_date': '1967-07-18'}</td>\n",
       "    </tr>\n",
       "  </tbody>\n",
       "</table>\n",
       "</div>"
      ],
      "text/plain": [
       "                                                                                                                  n\n",
       "0  {'name': 'Keven Bacon', 'birth_city': 'Philalephia', 'id': 1, 'birth_state': 'PA', 'birth_date': '1958-07-08'}  \n",
       "1  {'name': 'Tom Cruise', 'birth_city': 'Syracuse', 'id': 2, 'birth_state': 'NY', 'birth_date': '1962-07-03'}      \n",
       "2  {'name': 'Tyrese Gibson', 'birth_city': 'Los Angeles', 'id': 3, 'birth_state': 'CA', 'birth_date': '1978-12-30'}\n",
       "3  {'name': 'John Turtumo', 'birth_city': 'Brooklyn', 'id': 4, 'birth_state': 'NY', 'birth_date': '1957-02-28'}    \n",
       "4  {'name': 'Vin Diesel', 'birth_city': 'Alameda County', 'id': 5, 'birth_state': 'CA', 'birth_date': '1967-07-18'}"
      ]
     },
     "execution_count": 10,
     "metadata": {},
     "output_type": "execute_result"
    }
   ],
   "source": [
    "graph.evaluate(\"MATCH (n) DETACH DELETE n\")\n",
    "actors = [\n",
    "'MERGE(: Actor{id: 1, name: \"Keven Bacon\", birth_date: \"1958-07-08\", birth_city: \"Philalephia\", birth_state: \"PA\"})',\n",
    "'MERGE(: Actor{id: 2, name: \"Tom Cruise\", birth_date: \"1962-07-03\", birth_city: \"Syracuse\", birth_state: \"NY\"})',\n",
    "'MERGE(: Actor{id: 3, name: \"Tyrese Gibson\", birth_date: \"1978-12-30\", birth_city: \"Los Angeles\", birth_state: \"CA\"})',\n",
    "'MERGE(: Actor{id: 4, name: \"John Turtumo\", birth_date: \"1957-02-28\", birth_city: \"Brooklyn\", birth_state: \"NY\"})', \n",
    "'MERGE(: Actor{id: 5, name: \"Vin Diesel\", birth_date: \"1967-07-18\", birth_city: \"Alameda County\", birth_state: \"CA\"})'\n",
    "]\n",
    "\n",
    "for cypher in actors:\n",
    "    graph.run(cypher)\n",
    "    \n",
    "graph.run(\"MATCH (n) RETURN n;\").to_data_frame()"
   ]
  },
  {
   "cell_type": "code",
   "execution_count": 11,
   "metadata": {},
   "outputs": [
    {
     "data": {
      "text/html": [
       "<div>\n",
       "<style scoped>\n",
       "    .dataframe tbody tr th:only-of-type {\n",
       "        vertical-align: middle;\n",
       "    }\n",
       "\n",
       "    .dataframe tbody tr th {\n",
       "        vertical-align: top;\n",
       "    }\n",
       "\n",
       "    .dataframe thead th {\n",
       "        text-align: right;\n",
       "    }\n",
       "</style>\n",
       "<table border=\"1\" class=\"dataframe\">\n",
       "  <thead>\n",
       "    <tr style=\"text-align: right;\">\n",
       "      <th></th>\n",
       "      <th>n</th>\n",
       "    </tr>\n",
       "  </thead>\n",
       "  <tbody>\n",
       "    <tr>\n",
       "      <th>0</th>\n",
       "      <td>{'name': 'Fast Five', 'year': 2011, 'id': 1}</td>\n",
       "    </tr>\n",
       "    <tr>\n",
       "      <th>1</th>\n",
       "      <td>{'name': 'Transformers: Revenge of the Fallen', 'year': 2019, 'id': 2}</td>\n",
       "    </tr>\n",
       "    <tr>\n",
       "      <th>2</th>\n",
       "      <td>{'name': 'The Color of Moeny', 'year': 1986, 'id': 3}</td>\n",
       "    </tr>\n",
       "    <tr>\n",
       "      <th>3</th>\n",
       "      <td>{'name': 'A Few Good Men', 'year': 1992, 'id': 4}</td>\n",
       "    </tr>\n",
       "    <tr>\n",
       "      <th>4</th>\n",
       "      <td>{'name': 'Keven Bacon', 'birth_city': 'Philalephia', 'id': 1, 'birth_state': 'PA', 'birth_date': '1958-07-08'}</td>\n",
       "    </tr>\n",
       "    <tr>\n",
       "      <th>5</th>\n",
       "      <td>{'name': 'Tom Cruise', 'birth_city': 'Syracuse', 'id': 2, 'birth_state': 'NY', 'birth_date': '1962-07-03'}</td>\n",
       "    </tr>\n",
       "    <tr>\n",
       "      <th>6</th>\n",
       "      <td>{'name': 'Tyrese Gibson', 'birth_city': 'Los Angeles', 'id': 3, 'birth_state': 'CA', 'birth_date': '1978-12-30'}</td>\n",
       "    </tr>\n",
       "    <tr>\n",
       "      <th>7</th>\n",
       "      <td>{'name': 'John Turtumo', 'birth_city': 'Brooklyn', 'id': 4, 'birth_state': 'NY', 'birth_date': '1957-02-28'}</td>\n",
       "    </tr>\n",
       "    <tr>\n",
       "      <th>8</th>\n",
       "      <td>{'name': 'Vin Diesel', 'birth_city': 'Alameda County', 'id': 5, 'birth_state': 'CA', 'birth_date': '1967-07-18'}</td>\n",
       "    </tr>\n",
       "  </tbody>\n",
       "</table>\n",
       "</div>"
      ],
      "text/plain": [
       "                                                                                                                  n\n",
       "0  {'name': 'Fast Five', 'year': 2011, 'id': 1}                                                                    \n",
       "1  {'name': 'Transformers: Revenge of the Fallen', 'year': 2019, 'id': 2}                                          \n",
       "2  {'name': 'The Color of Moeny', 'year': 1986, 'id': 3}                                                           \n",
       "3  {'name': 'A Few Good Men', 'year': 1992, 'id': 4}                                                               \n",
       "4  {'name': 'Keven Bacon', 'birth_city': 'Philalephia', 'id': 1, 'birth_state': 'PA', 'birth_date': '1958-07-08'}  \n",
       "5  {'name': 'Tom Cruise', 'birth_city': 'Syracuse', 'id': 2, 'birth_state': 'NY', 'birth_date': '1962-07-03'}      \n",
       "6  {'name': 'Tyrese Gibson', 'birth_city': 'Los Angeles', 'id': 3, 'birth_state': 'CA', 'birth_date': '1978-12-30'}\n",
       "7  {'name': 'John Turtumo', 'birth_city': 'Brooklyn', 'id': 4, 'birth_state': 'NY', 'birth_date': '1957-02-28'}    \n",
       "8  {'name': 'Vin Diesel', 'birth_city': 'Alameda County', 'id': 5, 'birth_state': 'CA', 'birth_date': '1967-07-18'}"
      ]
     },
     "execution_count": 11,
     "metadata": {},
     "output_type": "execute_result"
    }
   ],
   "source": [
    "movies = [\n",
    "    'CREATE(: Movie{id: 1, name: \"Fast Five\", year: 2011}) '\n",
    "    'CREATE(: Movie{id: 2, name: \"Transformers: Revenge of the Fallen\", year: 2019}) '\n",
    "    'CREATE(: Movie{id: 3, name: \"The Color of Moeny\", year: 1986}) '\n",
    "    'CREATE(: Movie{id: 4, name: \"A Few Good Men\", year: 1992})' \n",
    "]\n",
    "\n",
    "for cypher in movies:\n",
    "    graph.run(cypher)\n",
    "graph.run(\"MATCH (n) RETURN n;\").to_data_frame()"
   ]
  },
  {
   "cell_type": "code",
   "execution_count": null,
   "metadata": {},
   "outputs": [],
   "source": []
  }
 ],
 "metadata": {
  "kernelspec": {
   "display_name": "Python 3",
   "language": "python",
   "name": "python3"
  },
  "language_info": {
   "codemirror_mode": {
    "name": "ipython",
    "version": 3
   },
   "file_extension": ".py",
   "mimetype": "text/x-python",
   "name": "python",
   "nbconvert_exporter": "python",
   "pygments_lexer": "ipython3",
   "version": "3.7.6"
  }
 },
 "nbformat": 4,
 "nbformat_minor": 4
}
