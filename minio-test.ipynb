{
 "cells": [
  {
   "cell_type": "markdown",
   "metadata": {},
   "source": [
    "# Get the svc url\n",
    "\n",
    "get from kubernetes and replace the following session\n",
    "\n",
    "    kubectl get svc -A"
   ]
  },
  {
   "cell_type": "code",
   "execution_count": 9,
   "metadata": {},
   "outputs": [],
   "source": [
    "svc='ada79fc7c69254b0c9fbf0bafc620d92-1804035176.eu-west-1.elb.amazonaws.com'\n",
    "port = 9000\n",
    "url = f'http://{svc}:{port}'"
   ]
  },
  {
   "cell_type": "markdown",
   "metadata": {},
   "source": [
    "## Test s3"
   ]
  },
  {
   "cell_type": "code",
   "execution_count": 16,
   "metadata": {},
   "outputs": [
    {
     "name": "stdout",
     "output_type": "stream",
     "text": [
      "it shall have nothing existed in new established minio setup\n",
      "2020-09-09 16:12:54 test-bucket\n",
      "create a new bucket\n",
      "the test bucket shall be showing\n",
      "2020-09-09 16:12:54 test-bucket\n",
      "create and copy the file\n",
      "Completed 36 Bytes/36 Bytes (267 Bytes/s) with 1 file(s) remaining\r",
      "upload: ./placeholder to s3://test-bucket/placeholder             \n",
      "a new file shall be showing\n",
      "2020-09-09 16:13:34 test-bucket\n",
      "placeholder shall showing\n",
      "placeholder\n",
      "placeholder\n",
      "placeholder\n",
      "delete a new bucket\n",
      "delete: s3://test-bucket/placeholder\n",
      "remove_bucket: test-bucket\n"
     ]
    }
   ],
   "source": [
    "%%bash -s \"$url\"\n",
    "export AWS_ACCESS_KEY_ID=admin\n",
    "export AWS_SECRET_ACCESS_KEY=password\n",
    "\n",
    "echo \"it shall have nothing existed in new established minio setup\"\n",
    "aws --endpoint-url $1 s3 ls\n",
    "\n",
    "echo \"create a new bucket\"\n",
    "# aws --endpoint-url $1 s3 mb s3://test-bucket\n",
    "\n",
    "echo \"the test bucket shall be showing\"\n",
    "aws --endpoint-url $1 s3 ls\n",
    "\n",
    "echo \"create and copy the file\"\n",
    "echo \"placeholder\" > placeholder\n",
    "aws --endpoint-url $1 s3 cp placeholder s3://test-bucket\n",
    "\n",
    "echo \"a new file shall be showing\"\n",
    "aws --endpoint-url $1 s3 ls s3://test-bucket\n",
    "\n",
    "echo \"placeholder shall showing\"\n",
    "aws --endpoint-url $1 s3 cp s3://test-bucket/placeholder -\n",
    "\n",
    "echo \"delete a new bucket\"\n",
    "aws --endpoint-url $1 s3 rb s3://test-bucket --force\n",
    "\n",
    "rm placeholder"
   ]
  }
 ],
 "metadata": {
  "kernelspec": {
   "display_name": "Python 3",
   "language": "python",
   "name": "python3"
  },
  "language_info": {
   "codemirror_mode": {
    "name": "ipython",
    "version": 3
   },
   "file_extension": ".py",
   "mimetype": "text/x-python",
   "name": "python",
   "nbconvert_exporter": "python",
   "pygments_lexer": "ipython3",
   "version": "3.7.6"
  }
 },
 "nbformat": 4,
 "nbformat_minor": 4
}
