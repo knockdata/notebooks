{
 "cells": [
  {
   "cell_type": "markdown",
   "metadata": {},
   "source": [
    "# Get the svc url\n",
    "\n",
    "get from kubernetes and replace the following session\n",
    "\n",
    "    kubectl get svc -A"
   ]
  },
  {
   "cell_type": "code",
   "execution_count": 3,
   "metadata": {},
   "outputs": [],
   "source": [
    "url = f'https://minio.lab.skysager.com'"
   ]
  },
  {
   "cell_type": "code",
   "execution_count": 4,
   "metadata": {},
   "outputs": [
    {
     "name": "stdout",
     "output_type": "stream",
     "text": [
      "it shall have nothing existed in new established minio setup\n"
     ]
    }
   ],
   "source": [
    "%%bash -s \"$url\"\n",
    "export AWS_ACCESS_KEY_ID=swedbank\n",
    "export AWS_SECRET_ACCESS_KEY=KnockDataNu\n",
    "\n",
    "echo \"it shall have nothing existed in new established minio setup\"\n",
    "aws --endpoint-url $1 s3 ls"
   ]
  },
  {
   "cell_type": "markdown",
   "metadata": {},
   "source": [
    "## Test s3"
   ]
  },
  {
   "cell_type": "code",
   "execution_count": 5,
   "metadata": {},
   "outputs": [
    {
     "name": "stdout",
     "output_type": "stream",
     "text": [
      "it shall have nothing existed in new established minio setup\n",
      "create a new bucket\n",
      "make_bucket: test-bucket\n",
      "the test bucket shall be showing\n",
      "2020-10-18 22:30:27 test-bucket\n",
      "create and copy the file\n",
      "Completed 12 Bytes/12 Bytes (38 Bytes/s) with 1 file(s) remaining\r",
      "upload: ./placeholder to s3://test-bucket/placeholder            \n",
      "a new file shall be showing\n",
      "2020-10-18 22:30:29         12 placeholder\n",
      "placeholder shall showing\n",
      "placeholder\n"
     ]
    }
   ],
   "source": [
    "%%bash -s \"$url\"\n",
    "export AWS_ACCESS_KEY_ID=swedbank\n",
    "export AWS_SECRET_ACCESS_KEY=KnockDataNu\n",
    "\n",
    "echo \"it shall have nothing existed in new established minio setup\"\n",
    "aws --endpoint-url $1 s3 ls\n",
    "\n",
    "echo \"create a new bucket\"\n",
    "aws --endpoint-url $1 s3 mb s3://test-bucket\n",
    "\n",
    "echo \"the test bucket shall be showing\"\n",
    "aws --endpoint-url $1 s3 ls\n",
    "\n",
    "echo \"create and copy the file\"\n",
    "echo \"placeholder\" > placeholder\n",
    "aws --endpoint-url $1 s3 cp placeholder s3://test-bucket\n",
    "\n",
    "echo \"a new file shall be showing\"\n",
    "aws --endpoint-url $1 s3 ls s3://test-bucket\n",
    "\n",
    "echo \"placeholder shall showing\"\n",
    "aws --endpoint-url $1 s3 cp s3://test-bucket/placeholder -\n",
    "\n",
    "# echo \"delete a new bucket\"\n",
    "# aws --endpoint-url $1 s3 rb s3://test-bucket --force\n",
    "\n",
    "# rm placeholder"
   ]
  },
  {
   "cell_type": "code",
   "execution_count": 6,
   "metadata": {},
   "outputs": [
    {
     "name": "stdout",
     "output_type": "stream",
     "text": [
      "it shall have nothing existed in new established minio setup\n",
      "2020-10-18 22:30:27 test-bucket\n"
     ]
    }
   ],
   "source": [
    "%%bash -s \"$url\"\n",
    "export AWS_ACCESS_KEY_ID=swedbank\n",
    "export AWS_SECRET_ACCESS_KEY=KnockDataNu\n",
    "\n",
    "echo \"it shall have nothing existed in new established minio setup\"\n",
    "aws --endpoint-url $1 s3 ls"
   ]
  },
  {
   "cell_type": "code",
   "execution_count": null,
   "metadata": {},
   "outputs": [],
   "source": []
  }
 ],
 "metadata": {
  "kernelspec": {
   "display_name": "Python 3",
   "language": "python",
   "name": "python3"
  },
  "language_info": {
   "codemirror_mode": {
    "name": "ipython",
    "version": 3
   },
   "file_extension": ".py",
   "mimetype": "text/x-python",
   "name": "python",
   "nbconvert_exporter": "python",
   "pygments_lexer": "ipython3",
   "version": "3.7.6"
  }
 },
 "nbformat": 4,
 "nbformat_minor": 4
}
